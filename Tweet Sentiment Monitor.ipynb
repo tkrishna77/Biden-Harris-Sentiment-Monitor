{
 "cells": [
  {
   "cell_type": "code",
   "execution_count": 1,
   "metadata": {},
   "outputs": [],
   "source": [
    "import codecs\n",
    "import requests\n",
    "import tweepy\n",
    "from textblob import TextBlob\n",
    "import sys\n",
    "import csv\n",
    "import matplotlib.pyplot as plt\n",
    "import seaborn as sns\n",
    "import itertools\n",
    "import collections\n",
    "import nltk\n",
    "from nltk.corpus import stopwords\n",
    "import re\n",
    "import networkx\n",
    "import warnings\n",
    "import pandas as pd"
   ]
  },
  {
   "cell_type": "code",
   "execution_count": 2,
   "metadata": {},
   "outputs": [],
   "source": [
    "# Inserting API keys\n",
    "consumer_key= '' \n",
    "consumer_secret= ''\n",
    "access_token=''\n",
    "access_token_secret=''\n",
    "# Authentication \n",
    "auth = tweepy.OAuthHandler(consumer_key, consumer_secret)\n",
    "auth.set_access_token(access_token, access_token_secret)\n",
    "api = tweepy.API(auth)"
   ]
  },
  {
   "cell_type": "code",
   "execution_count": 3,
   "metadata": {},
   "outputs": [],
   "source": [
    "# Function to remove URLs from tweets\n",
    "def urlRemove(txt):\n",
    "    return \" \".join(re.sub(\"([^0-9A-Za-z \\t])|(\\w+:\\/\\/\\S+)\", \"\", txt).split())"
   ]
  },
  {
   "cell_type": "code",
   "execution_count": 4,
   "metadata": {},
   "outputs": [],
   "source": [
    "# Set custom search \n",
    "search = \"#biden+harris+administration -filter:retweets\"\n",
    "\n",
    "tweets = tweepy.Cursor(api.search,\n",
    "                   q=search,\n",
    "                   lang=\"en\",\n",
    "                   since='2021-08-20').items(1000) # change this date further back or more recent based on time interval of interest\n",
    "\n",
    "# Remove URLs\n",
    "cleaned_tweets = [urlRemove(tweet.text) for tweet in tweets]"
   ]
  },
  {
   "cell_type": "code",
   "execution_count": 6,
   "metadata": {},
   "outputs": [
    {
     "data": {
      "text/plain": [
       "(-0.2,\n",
       " TextBlob(\"Biden Harris administration supposedly killed 2 ISIS K attack planners\"))"
      ]
     },
     "execution_count": 6,
     "metadata": {},
     "output_type": "execute_result"
    }
   ],
   "source": [
    "# TextBlob object of pulled tweets\n",
    "sentiment_raw = [TextBlob(tweet) for tweet in cleaned_tweets]\n",
    "\n",
    "sentiment_raw[0].polarity, sentiment_raw[0]"
   ]
  },
  {
   "cell_type": "code",
   "execution_count": 8,
   "metadata": {},
   "outputs": [
    {
     "data": {
      "text/plain": [
       "[-0.2,\n",
       " 'Biden Harris administration supposedly killed 2 ISIS K attack planners']"
      ]
     },
     "execution_count": 8,
     "metadata": {},
     "output_type": "execute_result"
    }
   ],
   "source": [
    "# Get polarity values of tweet text\n",
    "sentiment = [[tweet.sentiment.polarity, str(tweet)] for tweet in sentiment_raw]\n",
    "\n",
    "sentiment[0]"
   ]
  },
  {
   "cell_type": "code",
   "execution_count": 10,
   "metadata": {},
   "outputs": [
    {
     "data": {
      "text/html": [
       "<div>\n",
       "<style scoped>\n",
       "    .dataframe tbody tr th:only-of-type {\n",
       "        vertical-align: middle;\n",
       "    }\n",
       "\n",
       "    .dataframe tbody tr th {\n",
       "        vertical-align: top;\n",
       "    }\n",
       "\n",
       "    .dataframe thead th {\n",
       "        text-align: right;\n",
       "    }\n",
       "</style>\n",
       "<table border=\"1\" class=\"dataframe\">\n",
       "  <thead>\n",
       "    <tr style=\"text-align: right;\">\n",
       "      <th></th>\n",
       "      <th>polarity</th>\n",
       "      <th>tweet</th>\n",
       "    </tr>\n",
       "  </thead>\n",
       "  <tbody>\n",
       "    <tr>\n",
       "      <th>0</th>\n",
       "      <td>-0.200000</td>\n",
       "      <td>Biden Harris administration supposedly killed ...</td>\n",
       "    </tr>\n",
       "    <tr>\n",
       "      <th>2</th>\n",
       "      <td>-0.155556</td>\n",
       "      <td>no No NO Remenber The BidenHarris administrati...</td>\n",
       "    </tr>\n",
       "    <tr>\n",
       "      <th>6</th>\n",
       "      <td>-0.200000</td>\n",
       "      <td>Kabul ExPence Advisor Warned Trump Was Setting...</td>\n",
       "    </tr>\n",
       "    <tr>\n",
       "      <th>9</th>\n",
       "      <td>0.008333</td>\n",
       "      <td>12 US military personnel killed in bomb attack...</td>\n",
       "    </tr>\n",
       "    <tr>\n",
       "      <th>10</th>\n",
       "      <td>0.500000</td>\n",
       "      <td>If there is a hostage situation in Afghanistan...</td>\n",
       "    </tr>\n",
       "  </tbody>\n",
       "</table>\n",
       "</div>"
      ],
      "text/plain": [
       "    polarity                                              tweet\n",
       "0  -0.200000  Biden Harris administration supposedly killed ...\n",
       "2  -0.155556  no No NO Remenber The BidenHarris administrati...\n",
       "6  -0.200000  Kabul ExPence Advisor Warned Trump Was Setting...\n",
       "9   0.008333  12 US military personnel killed in bomb attack...\n",
       "10  0.500000  If there is a hostage situation in Afghanistan..."
      ]
     },
     "execution_count": 10,
     "metadata": {},
     "output_type": "execute_result"
    }
   ],
   "source": [
    "# Put tweets and polarity in dataframe\n",
    "sentiment_df = pd.DataFrame(sentiment, columns=[\"polarity\", \"tweet\"])\n",
    "sentiment_df = sentiment_df[sentiment_df.polarity != 0]\n",
    "\n",
    "sentiment_df.head()"
   ]
  },
  {
   "cell_type": "code",
   "execution_count": 12,
   "metadata": {},
   "outputs": [
    {
     "data": {
      "image/png": "[encoded data removed]",
      "text/plain": [
       "<Figure size 576x432 with 1 Axes>"
      ]
     },
     "metadata": {
      "needs_background": "light"
     },
     "output_type": "display_data"
    }
   ],
   "source": [
    "fig, ax = plt.subplots(figsize=(8, 6))\n",
    "\n",
    "# Plot histogram with break at zero\n",
    "sentiment_df.hist(bins=[-1, -0.75, -0.5, -0.25, 0.0, 0.25, 0.5, 0.75, 1],\n",
    "             ax=ax,\n",
    "             color=\"red\")\n",
    "\n",
    "plt.title(\"Biden-Harris Administration Sentiment from Twitter Data\")\n",
    "plt.show()"
   ]
  }
 ],
 "metadata": {
  "kernelspec": {
   "display_name": "Python 3",
   "language": "python",
   "name": "python3"
  },
  "language_info": {
   "codemirror_mode": {
    "name": "ipython",
    "version": 3
   },
   "file_extension": ".py",
   "mimetype": "text/x-python",
   "name": "python",
   "nbconvert_exporter": "python",
   "pygments_lexer": "ipython3",
   "version": "3.8.5"
  }
 },
 "nbformat": 4,
 "nbformat_minor": 4
}
